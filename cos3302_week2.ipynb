{
  "nbformat": 4,
  "nbformat_minor": 0,
  "metadata": {
    "colab": {
      "name": "cos3302_week2.ipynb",
      "provenance": [],
      "toc_visible": true,
      "authorship_tag": "ABX9TyNMBVvxOS4tnBOpwvOIXmv+",
      "include_colab_link": true
    },
    "kernelspec": {
      "name": "python3",
      "display_name": "Python 3"
    },
    "language_info": {
      "name": "python"
    },
    "accelerator": "GPU",
    "gpuClass": "standard"
  },
  "cells": [
    {
      "cell_type": "markdown",
      "metadata": {
        "id": "view-in-github",
        "colab_type": "text"
      },
      "source": [
        "<a href=\"https://colab.research.google.com/github/PaoRU/COS3302_week2/blob/main/cos3302_week2.ipynb\" target=\"_parent\"><img src=\"https://colab.research.google.com/assets/colab-badge.svg\" alt=\"Open In Colab\"/></a>"
      ]
    },
    {
      "cell_type": "markdown",
      "source": [
        "# Intro to Python"
      ],
      "metadata": {
        "id": "9LinJwk569Rj"
      }
    },
    {
      "cell_type": "markdown",
      "source": [
        "## Hello World\n"
      ],
      "metadata": {
        "id": "NCn_qVcQ7Tkl"
      }
    },
    {
      "cell_type": "code",
      "execution_count": 2,
      "metadata": {
        "colab": {
          "base_uri": "https://localhost:8080/"
        },
        "id": "VDcMKdQB6l54",
        "outputId": "73acf3b6-a7c3-4aa5-8fca-3253cd0a0ace"
      },
      "outputs": [
        {
          "output_type": "stream",
          "name": "stdout",
          "text": [
            "Hello World\n"
          ]
        }
      ],
      "source": [
        "# Never mind this statement, for compatibility reasons\n",
        "from __future__ import absolute_import, division, print_function, unicode_literals\n",
        "\n",
        "print(\"Hello World\")"
      ]
    },
    {
      "cell_type": "markdown",
      "source": [
        "## Function, Conditionals, and Iteration"
      ],
      "metadata": {
        "id": "29pwbpzB7n_e"
      }
    },
    {
      "cell_type": "markdown",
      "source": [
        "### Function and Conditionals"
      ],
      "metadata": {
        "id": "EEAdNLpQ9eMa"
      }
    },
    {
      "cell_type": "code",
      "source": [
        "def HelloWorldXY(x, y):\n",
        "  if (x < 10):\n",
        "    print(\"Hello World, x was < 10\")\n",
        "  elif (x < 20):\n",
        "    print(\"Hello World, x was >= 10 but < 20\")\n",
        "  else:\n",
        "    print(\"Hello World, x was >= 20\")\n",
        "  return x + y"
      ],
      "metadata": {
        "id": "Es7azU1V7qcl"
      },
      "execution_count": 3,
      "outputs": []
    },
    {
      "cell_type": "code",
      "source": [
        "print(HelloWorldXY(1,2))"
      ],
      "metadata": {
        "colab": {
          "base_uri": "https://localhost:8080/"
        },
        "id": "lHOxVTCc8El-",
        "outputId": "3c2dd28e-511c-4bdd-b823-3a0286d04464"
      },
      "execution_count": 4,
      "outputs": [
        {
          "output_type": "stream",
          "name": "stdout",
          "text": [
            "Hello World, x was < 10\n",
            "3\n"
          ]
        }
      ]
    },
    {
      "cell_type": "markdown",
      "source": [
        "### Iteration"
      ],
      "metadata": {
        "id": "bEzobwTr9sLr"
      }
    },
    {
      "cell_type": "code",
      "source": [
        "for i in range(8, 25, 5): # i=8, 13, 18, 23 (start, stop, step)\n",
        "  print(\"--- Now running with i: {}\".format(i))\n",
        "  r = HelloWorldXY(i,i)\n",
        "  print(\"Result from HelloWorld: {}\".format(r))"
      ],
      "metadata": {
        "colab": {
          "base_uri": "https://localhost:8080/"
        },
        "id": "qVRK-lBN9xip",
        "outputId": "3ece6f48-d65c-409c-8cca-8914e0e1cc26"
      },
      "execution_count": 5,
      "outputs": [
        {
          "output_type": "stream",
          "name": "stdout",
          "text": [
            "--- Now running with i: 8\n",
            "Hello World, x was < 10\n",
            "Result from HelloWorld: 16\n",
            "--- Now running with i: 13\n",
            "Hello World, x was >= 10 but < 20\n",
            "Result from HelloWorld: 26\n",
            "--- Now running with i: 18\n",
            "Hello World, x was >= 10 but < 20\n",
            "Result from HelloWorld: 36\n",
            "--- Now running with i: 23\n",
            "Hello World, x was >= 20\n",
            "Result from HelloWorld: 46\n"
          ]
        }
      ]
    },
    {
      "cell_type": "markdown",
      "source": [
        "## Various kinds of loops starting at 0 to 2"
      ],
      "metadata": {
        "id": "ZdfKRQNx8Rn6"
      }
    },
    {
      "cell_type": "code",
      "source": [
        "print(\"Iterate over the items. `range(2)` is like a list [0,1].\")\n",
        "for i in range(2):\n",
        "  print(i)\n",
        "\n",
        "print(\"Iterate over an actual list.\")\n",
        "for i in [0,1]:\n",
        "  print(i)\n",
        "\n",
        "print(\"While works\")\n",
        "i = 0\n",
        "while i < 2:\n",
        "  print(i)\n",
        "  i += 1"
      ],
      "metadata": {
        "colab": {
          "base_uri": "https://localhost:8080/"
        },
        "id": "FMGFgfYZ8GAA",
        "outputId": "d1c46e00-1f3a-48b4-fd49-082e9f40f020"
      },
      "execution_count": 6,
      "outputs": [
        {
          "output_type": "stream",
          "name": "stdout",
          "text": [
            "Iterate over the items. `range(2)` is like a list [0,1].\n",
            "0\n",
            "1\n",
            "Iterate over an actual list.\n",
            "0\n",
            "1\n",
            "While works\n",
            "0\n",
            "1\n"
          ]
        }
      ]
    },
    {
      "cell_type": "markdown",
      "source": [
        "## Numpy and lists"
      ],
      "metadata": {
        "id": "LbA5NRKn_bZX"
      }
    },
    {
      "cell_type": "markdown",
      "source": [
        "**Numpy** as np is the fundamental package for scientific computing with Python."
      ],
      "metadata": {
        "id": "r2PxqH6E_2H-"
      }
    },
    {
      "cell_type": "markdown",
      "source": [
        "**Lists (Array)** are data structure in Python that is a mutable, or changeable, ordered sequence of elements. Each\n",
        "element or value that is inside of a list is called an item. Just as strings are defined as characters between quotes,\n",
        "lists are defined by having values between square brackets [ ]."
      ],
      "metadata": {
        "id": "nxrhjM5R_4ZH"
      }
    },
    {
      "cell_type": "code",
      "source": [
        "sea_creatures = ['shark', 'cuttlefish', 'squid', 'mantis shrimp', 'anemone']"
      ],
      "metadata": {
        "id": "jbHEI3u58qK8"
      },
      "execution_count": 7,
      "outputs": []
    },
    {
      "cell_type": "code",
      "source": [
        "sea_creatures[0] = 'shark'\n",
        "sea_creatures[2] = 'squid'\n",
        "sea_creatures[4] = 'anemone'"
      ],
      "metadata": {
        "id": "2Z-tOZGc_8PU"
      },
      "execution_count": 8,
      "outputs": []
    },
    {
      "cell_type": "code",
      "source": [
        "import numpy as np # Make numpy available using np.\n",
        "\n",
        "# Create a numpy array, and append an element\n",
        "a = np.array([\"Hello\", \"World\"])\n",
        "a = np.append(a, \"!\")\n",
        "print(\"Current array: {}\".format(a))\n",
        "print(\"Printing each element\")\n",
        "for i in a:\n",
        "  print(i)\n",
        "\n",
        "print(\"\\nPrinting each element and their index\")\n",
        "for i,e in enumerate(a):\n",
        "  print(\"Index: {}, was: {}\".format(i, e))"
      ],
      "metadata": {
        "colab": {
          "base_uri": "https://localhost:8080/"
        },
        "id": "Db-xf9Z6AJ41",
        "outputId": "225a6852-4534-43d7-8368-98f1a42cb811"
      },
      "execution_count": 9,
      "outputs": [
        {
          "output_type": "stream",
          "name": "stdout",
          "text": [
            "Current array: ['Hello' 'World' '!']\n",
            "Printing each element\n",
            "Hello\n",
            "World\n",
            "!\n",
            "\n",
            "Printing each element and their index\n",
            "Index: 0, was: Hello\n",
            "Index: 1, was: World\n",
            "Index: 2, was: !\n"
          ]
        }
      ]
    },
    {
      "cell_type": "code",
      "source": [
        "print(\"\\nShowing some basic math on arrays\")\n",
        "b = np.array([0,1,4,3,2])\n",
        "print(\"Max: {}\".format(np.max(b)))\n",
        "print(\"Average: {}\".format(np.average(b)))\n",
        "print(\"Max index: {}\".format(np.argmax(b)))"
      ],
      "metadata": {
        "colab": {
          "base_uri": "https://localhost:8080/"
        },
        "id": "0TCxTZ7UATai",
        "outputId": "08722b1d-9079-43c7-f005-bf37bce7ba25"
      },
      "execution_count": 10,
      "outputs": [
        {
          "output_type": "stream",
          "name": "stdout",
          "text": [
            "\n",
            "Showing some basic math on arrays\n",
            "Max: 4\n",
            "Average: 2.0\n",
            "Max index: 2\n"
          ]
        }
      ]
    },
    {
      "cell_type": "code",
      "source": [
        "print(\"\\nYou can print the type of anything\")\n",
        "print(\"Type of b: {}, type of b[0]: {}\".format(type(b), type(b[0])))"
      ],
      "metadata": {
        "colab": {
          "base_uri": "https://localhost:8080/"
        },
        "id": "GB8rahRMAXI9",
        "outputId": "c34af7e4-39a2-484f-9f3d-5f89436f39db"
      },
      "execution_count": 11,
      "outputs": [
        {
          "output_type": "stream",
          "name": "stdout",
          "text": [
            "\n",
            "You can print the type of anything\n",
            "Type of b: <class 'numpy.ndarray'>, type of b[0]: <class 'numpy.int64'>\n"
          ]
        }
      ]
    },
    {
      "cell_type": "code",
      "source": [
        "print(\"\\nUse numpy to create a [3,3] dimension array with random number\")\n",
        "c = np.random.rand(3, 3)\n",
        "print(c)"
      ],
      "metadata": {
        "colab": {
          "base_uri": "https://localhost:8080/"
        },
        "id": "8ghuLvaMAa7p",
        "outputId": "91c0c345-be65-4e23-eacc-1ceb9c4602ed"
      },
      "execution_count": 12,
      "outputs": [
        {
          "output_type": "stream",
          "name": "stdout",
          "text": [
            "\n",
            "Use numpy to create a [3,3] dimension array with random number\n",
            "[[0.81076416 0.12801931 0.29095239]\n",
            " [0.47464358 0.33673191 0.13580661]\n",
            " [0.85012012 0.14988308 0.83135654]]\n"
          ]
        }
      ]
    },
    {
      "cell_type": "code",
      "source": [
        "print(\"\\nShowing some basic math on arrays\")\n",
        "b = np.array([0,1,4,3,2])\n",
        "print(\"Max: {}\".format(np.max(b)))\n",
        "print(\"Average: {}\".format(np.average(b)))\n",
        "print(\"Max index: {}\".format(np.argmax(b)))"
      ],
      "metadata": {
        "colab": {
          "base_uri": "https://localhost:8080/"
        },
        "id": "MXcBFAqQArP2",
        "outputId": "406c57f8-cae0-4e6f-c0d7-aa7d81f255c8"
      },
      "execution_count": 13,
      "outputs": [
        {
          "output_type": "stream",
          "name": "stdout",
          "text": [
            "\n",
            "Showing some basic math on arrays\n",
            "Max: 4\n",
            "Average: 2.0\n",
            "Max index: 2\n"
          ]
        }
      ]
    },
    {
      "cell_type": "code",
      "source": [
        "print(\"\\nYou can print the dimensions of arrays\")\n",
        "print(\"Shape of a: {}\".format(a.shape))\n",
        "print(\"Shape of b: {}\".format(b.shape))\n",
        "print(\"Shape of c: {}\".format(c.shape))"
      ],
      "metadata": {
        "colab": {
          "base_uri": "https://localhost:8080/"
        },
        "id": "qhjOerVFAuEG",
        "outputId": "8135da5a-a82e-49f3-c4a4-7cc047de5cd2"
      },
      "execution_count": 14,
      "outputs": [
        {
          "output_type": "stream",
          "name": "stdout",
          "text": [
            "\n",
            "You can print the dimensions of arrays\n",
            "Shape of a: (3,)\n",
            "Shape of b: (5,)\n",
            "Shape of c: (3, 3)\n"
          ]
        }
      ]
    },
    {
      "cell_type": "markdown",
      "source": [
        "## Colab Specifics:"
      ],
      "metadata": {
        "id": "gH-ZQJf7A0hR"
      }
    },
    {
      "cell_type": "markdown",
      "source": [
        "to run commands at the VM’s terminal, prefix the line with an exclamation point (!)"
      ],
      "metadata": {
        "id": "LAmg9VDfA9ML"
      }
    },
    {
      "cell_type": "code",
      "source": [
        "print(\"\\nDoing $ls on filesystem\")\n",
        "!ls -l\n",
        "!pwd"
      ],
      "metadata": {
        "colab": {
          "base_uri": "https://localhost:8080/"
        },
        "id": "16Py6k6BAwbH",
        "outputId": "a17e5120-82d5-4e4d-c517-7573601cbd8e"
      },
      "execution_count": 15,
      "outputs": [
        {
          "output_type": "stream",
          "name": "stdout",
          "text": [
            "\n",
            "Doing $ls on filesystem\n",
            "total 4\n",
            "drwxr-xr-x 1 root root 4096 Aug 15 13:44 sample_data\n",
            "/content\n"
          ]
        }
      ]
    },
    {
      "cell_type": "code",
      "source": [
        "print(\"Install numpy\") # Just for test, numpy is actually preinstalled in all Colab instancs\n",
        "!pip install numpy"
      ],
      "metadata": {
        "colab": {
          "base_uri": "https://localhost:8080/"
        },
        "id": "zwfbxcRDBAwy",
        "outputId": "c981a9f9-92e1-4c2d-f75e-18fed2ccb083"
      },
      "execution_count": 16,
      "outputs": [
        {
          "output_type": "stream",
          "name": "stdout",
          "text": [
            "Install numpy\n",
            "Looking in indexes: https://pypi.org/simple, https://us-python.pkg.dev/colab-wheels/public/simple/\n",
            "Requirement already satisfied: numpy in /usr/local/lib/python3.7/dist-packages (1.21.6)\n"
          ]
        }
      ]
    },
    {
      "cell_type": "markdown",
      "source": [
        "# Exeecise"
      ],
      "metadata": {
        "id": "cJuxPuy5G36a"
      }
    },
    {
      "cell_type": "markdown",
      "source": [
        "## 1"
      ],
      "metadata": {
        "id": "j58IuXlBHAvj"
      }
    },
    {
      "cell_type": "markdown",
      "source": [
        "Colab: Create a code cell underneath this text cell and add code to:\n",
        "- List the path of the current directory (pwd)\n",
        "- Go to / (cd) and list the content (ls-l)"
      ],
      "metadata": {
        "id": "6LdzL1fvHDZV"
      }
    },
    {
      "cell_type": "code",
      "source": [
        "!pwd\n",
        "!cd /\n",
        "!ls -l"
      ],
      "metadata": {
        "id": "pWOd4rSZBHCq",
        "colab": {
          "base_uri": "https://localhost:8080/"
        },
        "outputId": "4f0d728e-6dd4-4dc8-8ca5-bc13fb60561f"
      },
      "execution_count": 32,
      "outputs": [
        {
          "output_type": "stream",
          "name": "stdout",
          "text": [
            "/content\n",
            "total 4\n",
            "drwxr-xr-x 1 root root 4096 Aug 15 13:44 sample_data\n"
          ]
        }
      ]
    },
    {
      "cell_type": "markdown",
      "source": [
        "## 2"
      ],
      "metadata": {
        "id": "lVTWOqHOoLUV"
      }
    },
    {
      "cell_type": "code",
      "source": [
        "fruits = [\"apple\", \"banana\", \"cherry\"]"
      ],
      "metadata": {
        "id": "4d9IYo2DoNvI"
      },
      "execution_count": 33,
      "outputs": []
    },
    {
      "cell_type": "markdown",
      "source": [
        "Python lists without Numpy: Print the second item in the fruits list:"
      ],
      "metadata": {
        "id": "iqzSNmTGoM8h"
      }
    },
    {
      "cell_type": "code",
      "source": [
        "fruits[1]"
      ],
      "metadata": {
        "colab": {
          "base_uri": "https://localhost:8080/",
          "height": 36
        },
        "id": "wnGv4ukEowGX",
        "outputId": "92d2d4bb-e14f-4d41-9412-c92f72d136c0"
      },
      "execution_count": 34,
      "outputs": [
        {
          "output_type": "execute_result",
          "data": {
            "text/plain": [
              "'banana'"
            ],
            "application/vnd.google.colaboratory.intrinsic+json": {
              "type": "string"
            }
          },
          "metadata": {},
          "execution_count": 34
        }
      ]
    },
    {
      "cell_type": "markdown",
      "source": [
        "## 3"
      ],
      "metadata": {
        "id": "uYZOy1InqIhH"
      }
    },
    {
      "cell_type": "markdown",
      "source": [
        "Change the value from “apple” to “kiwi”, in the fruits list:"
      ],
      "metadata": {
        "id": "7vTPMa3gqOOI"
      }
    },
    {
      "cell_type": "code",
      "source": [
        "fruits[0] = \"kiwi\"\n",
        "print(fruits)"
      ],
      "metadata": {
        "colab": {
          "base_uri": "https://localhost:8080/"
        },
        "id": "Ui-1Mt6IqOqF",
        "outputId": "82c4f2de-7bfd-4531-941a-00e39984af9b"
      },
      "execution_count": 35,
      "outputs": [
        {
          "output_type": "stream",
          "name": "stdout",
          "text": [
            "['kiwi', 'banana', 'cherry']\n"
          ]
        }
      ]
    },
    {
      "cell_type": "markdown",
      "source": [
        "## 4"
      ],
      "metadata": {
        "id": "MNrP58jMqfRR"
      }
    },
    {
      "cell_type": "markdown",
      "source": [
        "Use the append method to add “orange” to the fruits list:"
      ],
      "metadata": {
        "id": "Ci_jFVBXqger"
      }
    },
    {
      "cell_type": "code",
      "source": [
        "fruits.append(\"orange\")\n",
        "print(fruits)"
      ],
      "metadata": {
        "colab": {
          "base_uri": "https://localhost:8080/"
        },
        "id": "ty1gNpRGqhfy",
        "outputId": "07e9b07e-086c-4f16-e015-fc4ce4223327"
      },
      "execution_count": 36,
      "outputs": [
        {
          "output_type": "stream",
          "name": "stdout",
          "text": [
            "['kiwi', 'banana', 'cherry', 'orange']\n"
          ]
        }
      ]
    },
    {
      "cell_type": "markdown",
      "source": [
        "## 5"
      ],
      "metadata": {
        "id": "kI-6GghPrV0e"
      }
    },
    {
      "cell_type": "markdown",
      "source": [
        "Use the insert method to add “lemon” as the second item in the fruits list:"
      ],
      "metadata": {
        "id": "w6kv-zcYrYUd"
      }
    },
    {
      "cell_type": "code",
      "source": [
        "fruits.insert(1, \"lemon\")\n",
        "print(fruits)"
      ],
      "metadata": {
        "colab": {
          "base_uri": "https://localhost:8080/"
        },
        "id": "g7c4OnZNrRMK",
        "outputId": "cd0afecb-ec7a-45d8-c9f9-5fe2f3f0a24f"
      },
      "execution_count": 37,
      "outputs": [
        {
          "output_type": "stream",
          "name": "stdout",
          "text": [
            "['kiwi', 'lemon', 'banana', 'cherry', 'orange']\n"
          ]
        }
      ]
    },
    {
      "cell_type": "markdown",
      "source": [
        "## 6"
      ],
      "metadata": {
        "id": "oqCxBZBKslcu"
      }
    },
    {
      "cell_type": "markdown",
      "source": [
        "Use the remove method to delete “banana” from the fruits list:"
      ],
      "metadata": {
        "id": "zmOvya0DsojA"
      }
    },
    {
      "cell_type": "code",
      "source": [
        "fruits.remove(\"banana\")\n",
        "print(fruits)"
      ],
      "metadata": {
        "colab": {
          "base_uri": "https://localhost:8080/"
        },
        "id": "473BtawzsGE0",
        "outputId": "86b4651b-1acf-4cb3-b89c-30a5de901b56"
      },
      "execution_count": 38,
      "outputs": [
        {
          "output_type": "stream",
          "name": "stdout",
          "text": [
            "['kiwi', 'lemon', 'cherry', 'orange']\n"
          ]
        }
      ]
    },
    {
      "cell_type": "markdown",
      "source": [
        "## 7"
      ],
      "metadata": {
        "id": "QJXNVt1ys4i8"
      }
    },
    {
      "cell_type": "code",
      "source": [
        "a = 50\n",
        "b = 10\n",
        "c = 20\n",
        "d = 20"
      ],
      "metadata": {
        "id": "UaV4HcjcuZVW"
      },
      "execution_count": 48,
      "outputs": []
    },
    {
      "cell_type": "markdown",
      "source": [
        "Python If...Else: Print “Hello World” if a is greater than b:"
      ],
      "metadata": {
        "id": "nouLnnyrs5ce"
      }
    },
    {
      "cell_type": "code",
      "source": [
        "if a > b:\n",
        "  print(\"Hello World\")"
      ],
      "metadata": {
        "colab": {
          "base_uri": "https://localhost:8080/"
        },
        "id": "U7dY2jU8s2lQ",
        "outputId": "63b1171c-8cbb-42ef-f2c7-ae9bb294b25a"
      },
      "execution_count": 52,
      "outputs": [
        {
          "output_type": "stream",
          "name": "stdout",
          "text": [
            "Hello World\n"
          ]
        }
      ]
    },
    {
      "cell_type": "markdown",
      "source": [
        "## 8"
      ],
      "metadata": {
        "id": "D6FB1ylKuSzJ"
      }
    },
    {
      "cell_type": "markdown",
      "source": [
        "Print “Hello World” if a is not equal to b:"
      ],
      "metadata": {
        "id": "LScedta7u430"
      }
    },
    {
      "cell_type": "code",
      "source": [
        "if a != b:\n",
        "  print(\"Hello World\")"
      ],
      "metadata": {
        "colab": {
          "base_uri": "https://localhost:8080/"
        },
        "id": "h5xLsc0nt4dt",
        "outputId": "06232201-b691-4db8-f1a3-b10b4299b9ef"
      },
      "execution_count": 53,
      "outputs": [
        {
          "output_type": "stream",
          "name": "stdout",
          "text": [
            "Hello World\n"
          ]
        }
      ]
    },
    {
      "cell_type": "markdown",
      "source": [
        "## 9"
      ],
      "metadata": {
        "id": "2sJ0Z_AqvMss"
      }
    },
    {
      "cell_type": "markdown",
      "source": [
        "Print “Yes” if a is equal to b, otherwise print “No”:"
      ],
      "metadata": {
        "id": "2FvQCbj9vNsj"
      }
    },
    {
      "cell_type": "code",
      "source": [
        "if a == b:\n",
        "  print(\"Yes\")\n",
        "else:\n",
        "  print(\"No\")"
      ],
      "metadata": {
        "colab": {
          "base_uri": "https://localhost:8080/"
        },
        "id": "4TjxcvYbvGk0",
        "outputId": "55cd7c24-d9de-480a-cd15-81afa172571e"
      },
      "execution_count": 54,
      "outputs": [
        {
          "output_type": "stream",
          "name": "stdout",
          "text": [
            "No\n"
          ]
        }
      ]
    },
    {
      "cell_type": "markdown",
      "source": [
        "## 10"
      ],
      "metadata": {
        "id": "EmzCL_7tv_gO"
      }
    },
    {
      "cell_type": "markdown",
      "source": [
        "Print “1” if a is equal to b, print “2” if a is greater than b, otherwise print “3”:"
      ],
      "metadata": {
        "id": "w6c9K7GxwBjY"
      }
    },
    {
      "cell_type": "code",
      "source": [
        "if a == b:\n",
        "  print('1')\n",
        "elif a > b:\n",
        "  print('2')\n",
        "else:\n",
        "  print('3')"
      ],
      "metadata": {
        "colab": {
          "base_uri": "https://localhost:8080/"
        },
        "id": "3fwKmPVCvspr",
        "outputId": "7ed67c69-0b21-4c75-83aa-27d109ccb028"
      },
      "execution_count": 55,
      "outputs": [
        {
          "output_type": "stream",
          "name": "stdout",
          "text": [
            "2\n"
          ]
        }
      ]
    },
    {
      "cell_type": "markdown",
      "source": [
        "## 11"
      ],
      "metadata": {
        "id": "X-gdTmDIw7BA"
      }
    },
    {
      "cell_type": "markdown",
      "source": [
        "Print “Hello” if a is equal to b, and c is equal to d:"
      ],
      "metadata": {
        "id": "WSVj53ZRw8BK"
      }
    },
    {
      "cell_type": "code",
      "source": [
        "if (a == b) and (c == d):\n",
        "  print('Hello')"
      ],
      "metadata": {
        "id": "vg-Zc4FOwWx6"
      },
      "execution_count": 56,
      "outputs": []
    },
    {
      "cell_type": "markdown",
      "source": [
        "## 12"
      ],
      "metadata": {
        "id": "QrErTXOqxW6Z"
      }
    },
    {
      "cell_type": "markdown",
      "source": [
        "Print “Hello” if either a is equal to b, or c is equal to d:"
      ],
      "metadata": {
        "id": "6wqioTf6xX3v"
      }
    },
    {
      "cell_type": "code",
      "source": [
        "if (a == b) or (c == d):\n",
        "  print('Hello')"
      ],
      "metadata": {
        "colab": {
          "base_uri": "https://localhost:8080/"
        },
        "id": "Za-Br5caxSn-",
        "outputId": "4dc1a906-2a81-4127-9ef5-02321e4fd91d"
      },
      "execution_count": 57,
      "outputs": [
        {
          "output_type": "stream",
          "name": "stdout",
          "text": [
            "Hello\n"
          ]
        }
      ]
    },
    {
      "cell_type": "markdown",
      "source": [
        "## 13"
      ],
      "metadata": {
        "id": "UwmIbPEyyB4t"
      }
    },
    {
      "cell_type": "markdown",
      "source": [
        "Python Loops: Print i as long as i is less than 6:"
      ],
      "metadata": {
        "id": "iDOmtIXMyDb7"
      }
    },
    {
      "cell_type": "code",
      "source": [
        "i = 0\n",
        "\n",
        "while i < 6:\n",
        "  print(i)\n",
        "  i += 1"
      ],
      "metadata": {
        "colab": {
          "base_uri": "https://localhost:8080/"
        },
        "id": "QjJ4xGY8yENK",
        "outputId": "b51d45be-2a5a-46af-8b1d-65c06552a996"
      },
      "execution_count": 59,
      "outputs": [
        {
          "output_type": "stream",
          "name": "stdout",
          "text": [
            "0\n",
            "1\n",
            "2\n",
            "3\n",
            "4\n",
            "5\n"
          ]
        }
      ]
    },
    {
      "cell_type": "markdown",
      "source": [
        "## 14"
      ],
      "metadata": {
        "id": "__qYuPGi4fxC"
      }
    },
    {
      "cell_type": "markdown",
      "source": [
        "From #13 stop the loop if i is 3:"
      ],
      "metadata": {
        "id": "KQgV2K7l4hno"
      }
    },
    {
      "cell_type": "code",
      "source": [
        "i = 0\n",
        "\n",
        "while i < 6:\n",
        "  print(i)\n",
        "  if i == 3:\n",
        "    break\n",
        "  i += 1"
      ],
      "metadata": {
        "colab": {
          "base_uri": "https://localhost:8080/"
        },
        "id": "R6vQLnie3zt6",
        "outputId": "c8811027-7ad8-423a-c21b-833c0e36c07e"
      },
      "execution_count": 60,
      "outputs": [
        {
          "output_type": "stream",
          "name": "stdout",
          "text": [
            "0\n",
            "1\n",
            "2\n",
            "3\n"
          ]
        }
      ]
    }
  ]
}